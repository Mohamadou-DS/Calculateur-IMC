'''
  Indice de masse corporelle (IMC)	Interprétation (d'après l'OMS)
      moins de 18,5	Insuffisance pondérale (maigreur)
      18,5 à 25	Corpulence normale
      25 à 30	Surpoids
      30 à 35	Obésité modérée
      35 à 40	Obésité sévère
      plus de 40	Obésité morbide ou massive

'''

              #  Source :  https://www.topsante.com/outils/imc

import gradio as gr

def imc_calculator(poids, taille):
    imc = (poids / (taille * taille))
    statut = ""
    if imc < 18.5:
      statut = "Insuffisance pondérale (maigreur)"
    elif imc <= 25:
      statut = "Corpulence normale"
    elif imc <= 30:
      statut = "Surpoids"
    elif imc <= 35:
      statut = "Obésité modérée"
    elif imc <= 40:
      statut = "Obésité sévère"
    else:
      statut = "Obésité morbide ou massive"

    return f"Votre Indice de Masse Corporelle vaut {imc}, vous avez donc une {statut}."

interface = gr.Interface(
    fn=imc_calculator,
    inputs=[
        gr.Number(label="Saisissez ici votre poids en (Kg) !"),
        gr.Number(label="Saisissez votre taille ici en (cm) !"),
    ],
    outputs=gr.Textbox(label="Résultat"),
    title="Calculateur d'indice de masse corporelle ",
    description="Indiquer votre poids et votre taille, pour savoir votre IMC et l'etat de santé de votre corps.",
)

if __name__ == "__main__":
  interface.launch()
